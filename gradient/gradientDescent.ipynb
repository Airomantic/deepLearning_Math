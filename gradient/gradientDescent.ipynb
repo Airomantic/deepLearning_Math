{
 "cells": [
  {
   "cell_type": "code",
   "execution_count": null,
   "metadata": {},
   "outputs": [],
   "source": [
    "import numpy as np\n",
    "\n",
    "def gradient(w, X, y):\n",
    "    m = len(y)\n",
    "    y_pred = X.dot(w)\n",
    "    error = y_pred - y\n",
    "    grad = (1/m) * X.T.dot(error)\n",
    "    return grad\n"
   ]
  }
 ],
 "metadata": {
  "kernelspec": {
   "display_name": "Python 3",
   "language": "python",
   "name": "python3"
  },
  "language_info": {
   "name": "python",
   "version": "3.9.6"
  }
 },
 "nbformat": 4,
 "nbformat_minor": 2
}

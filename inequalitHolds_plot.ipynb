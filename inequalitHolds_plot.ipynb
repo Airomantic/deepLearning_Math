{
 "cells": [
  {
   "cell_type": "code",
   "execution_count": 3,
   "metadata": {},
   "outputs": [
    {
     "data": {
      "image/png": "[encoded data removed]",
      "text/plain": [
       "<Figure size 864x432 with 1 Axes>"
      ]
     },
     "metadata": {
      "needs_background": "light"
     },
     "output_type": "display_data"
    },
    {
     "name": "stdout",
     "output_type": "stream",
     "text": [
      "Final Frobenius norm of Sigma: 0.048865169286727905\n",
      "Right hand side of the inequality: 178.88543819998318\n",
      "The inequality is satisfied <\n"
     ]
    }
   ],
   "source": [
    "import torch\n",
    "import torch.nn as nn\n",
    "import numpy as np\n",
    "import matplotlib.pyplot as plt\n",
    "\n",
    "# 设置随机种子，保证实验结果可重复\n",
    "torch.manual_seed(42)\n",
    "np.random.seed(42)\n",
    "\n",
    "# 定义一个简单的全连接神经网络模型\n",
    "class SimpleNet(nn.Module):\n",
    "    def __init__(self):\n",
    "        super(SimpleNet, self).__init__()\n",
    "        self.fc1 = nn.Linear(10, 5)  # 输入维度为10，输出维度为5\n",
    "        self.fc2 = nn.Linear(5, 1)   # 输入维度为5，输出维度为1\n",
    "\n",
    "    def forward(self, x):\n",
    "        x = torch.relu(self.fc1(x))\n",
    "        x = self.fc2(x)\n",
    "        return x\n",
    "\n",
    "# 计算 Sigma 矩阵的函数\n",
    "def calculate_sigma(model, input_data, batch_size):\n",
    "    # 将模型设为评估模式，这样在前向传播时不会应用 dropout 等技术\n",
    "    model.eval()\n",
    "    \n",
    "    # 前向传播，获取输出\n",
    "    with torch.no_grad():\n",
    "        outputs = model(input_data)\n",
    "    \n",
    "    # 计算梯度\n",
    "    grads = []\n",
    "    for param in model.parameters():\n",
    "        if param.grad is not None:\n",
    "            grad = param.grad.detach().numpy().flatten()\n",
    "            grads.append(grad)\n",
    "        else:\n",
    "            grad = torch.zeros_like(param).detach().numpy().flatten()\n",
    "            grads.append(grad)\n",
    "    \n",
    "    grads = np.concatenate(grads)\n",
    "    Sigma = np.outer(grads, grads) / batch_size\n",
    "\n",
    "    return Sigma\n",
    "\n",
    "# 实例化模型\n",
    "model = SimpleNet()\n",
    "\n",
    "# 随机生成输入数据（batch_size = 32，输入维度为10）\n",
    "batch_size = 32\n",
    "input_data = torch.randn(batch_size, 10)\n",
    "\n",
    "# 参数设置\n",
    "delta = 0.1     # 给定的 delta 值\n",
    "s = 0.01        # 学习率\n",
    "iterations = 100  # 迭代次数\n",
    "\n",
    "# 初始化空列表，用于存储每步的 Sigma 矩阵的 Frobenius 范数\n",
    "sigma_f_norms = []\n",
    "\n",
    "# 计算每步的 Sigma 矩阵并记录其 Frobenius 范数\n",
    "for i in range(iterations):\n",
    "    # 反向传播计算梯度\n",
    "    model.zero_grad()\n",
    "    output = model(input_data)\n",
    "    loss = torch.mean(output)  # 假设这里的损失函数是输出的均值\n",
    "    loss.backward()\n",
    "    \n",
    "    # 计算 Sigma 矩阵的 Frobenius 范数\n",
    "    Sigma = calculate_sigma(model, input_data, batch_size)\n",
    "    Sigma_F_norm = np.linalg.norm(Sigma, 'fro')\n",
    "    sigma_f_norms.append(Sigma_F_norm)\n",
    "\n",
    "# 计算不等式右侧的值\n",
    "right_hand_side = np.sqrt(batch_size / delta / s)\n",
    "\n",
    "# 绘制 Sigma 矩阵的 Frobenius 范数随迭代次数的变化图\n",
    "plt.figure(figsize=(12, 6))\n",
    "plt.plot(sigma_f_norms, label='Frobenius Norm of Sigma')\n",
    "plt.axhline(y=right_hand_side, color='r', linestyle='--', label='Right Hand Side')\n",
    "plt.xlabel('Iterations')\n",
    "plt.ylabel('Frobenius Norm')\n",
    "plt.title('Frobenius Norm of Sigma vs Iterations')\n",
    "plt.legend()\n",
    "plt.grid(True)\n",
    "plt.savefig(\"picture/inequalitHolds_sigmaFrobenius.png\")\n",
    "plt.show()\n",
    "\n",
    "# 输出最后一步 Sigma 矩阵的 Frobenius 范数和右侧的值\n",
    "print(f\"Final Frobenius norm of Sigma: {sigma_f_norms[-1]}\")\n",
    "print(f\"Right hand side of the inequality: {right_hand_side}\")\n",
    "\n",
    "# 比较左右两侧的值\n",
    "if Sigma_F_norm == right_hand_side:\n",
    "    print(\"The inequality is satisfied =\")\n",
    "elif Sigma_F_norm < right_hand_side:\n",
    "    print(\"The inequality is satisfied <\")\n",
    "else:\n",
    "    print(\"The inequality is not satisfied.\")\n"
   ]
  }
 ],
 "metadata": {
  "kernelspec": {
   "display_name": "Python 3",
   "language": "python",
   "name": "python3"
  },
  "language_info": {
   "codemirror_mode": {
    "name": "ipython",
    "version": 3
   },
   "file_extension": ".py",
   "mimetype": "text/x-python",
   "name": "python",
   "nbconvert_exporter": "python",
   "pygments_lexer": "ipython3",
   "version": "3.10.12"
  }
 },
 "nbformat": 4,
 "nbformat_minor": 2
}
